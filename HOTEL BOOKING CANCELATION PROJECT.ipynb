{
 "cells": [
  {
   "cell_type": "markdown",
   "metadata": {},
   "source": [
    "# Data Wrangling and Data Analysis"
   ]
  },
  {
   "cell_type": "code",
   "execution_count": null,
   "metadata": {},
   "outputs": [],
   "source": [
    "# Import libraries\n",
    "import pandas as pd \n",
    "import numpy as np\n",
    "import matplotlib.pyplot as plt\n",
    "import seaborn as sns\n",
    "from plotly import express as px\n",
    "import plotly.graph_objects as go\n",
    "from plotly.subplots import make_subplots\n",
    "from sklearn.preprocessing import LabelEncoder, MinMaxScaler\n",
    "from sklearn.feature_selection import RFE # Recursive Feature Elimination\n",
    "from sklearn.model_selection import train_test_split, RandomizedSearchCV, cross_val_score\n",
    "from sklearn.linear_model import LogisticRegression\n",
    "from sklearn.neighbors import KNeighborsClassifier\n",
    "from sklearn.tree import DecisionTreeClassifier\n",
    "from sklearn.svm import SVC\n",
    "from sklearn.ensemble import RandomForestClassifier, ExtraTreesClassifier, AdaBoostClassifier, VotingClassifier\n",
    "from xgboost import XGBClassifier\n",
    "from lightgbm import LGBMClassifier\n",
    "from sklearn.metrics import accuracy_score, roc_auc_score, confusion_matrix\n",
    "import warnings\n",
    "import time\n",
    "import datetime\n",
    "import pickle"
   ]
  },
  {
   "cell_type": "code",
   "execution_count": null,
   "metadata": {},
   "outputs": [],
   "source": [
    "# Ignore the warnings\n",
    "warnings.filterwarnings(\"ignore\")"
   ]
  },
  {
   "cell_type": "code",
   "execution_count": null,
   "metadata": {},
   "outputs": [],
   "source": [
    "# Read the csv file\n",
    "# data_path = \"/content/hotel_bookings.csv\"\n",
    "hotel_booking_data = pd.read_csv(\"hotel_bookings.csv\")\n",
    "hotel_booking_data.head()"
   ]
  },
  {
   "cell_type": "code",
   "execution_count": null,
   "metadata": {},
   "outputs": [],
   "source": [
    "# Create a function to display information about the data\n",
    "pd.set_option('display.max_columns', 50)\n",
    "def display_data_info(data):\n",
    "\n",
    "  # 1. Print the number of rows and the columns in the data\n",
    "  print(\"SHAPE OF DATA\")\n",
    "  rows = data.shape[0]\n",
    "  columns = data.shape[1]\n",
    "  print()\n",
    "  print(\"Number of rows in the data are {:,}\".format(rows))\n",
    "  print(\"Number of columns in the data are {:,}\".format(columns))\n",
    "  print()\n",
    "\n",
    "  # 2. Print the number of null values in the data and the percentage of null values\n",
    "  print(\"FEATURES WITH NULL VALUES\")\n",
    "  print()\n",
    "  for col in data.columns:\n",
    "    # Calculate the number of null values\n",
    "    null_values = data[col].isnull().sum()\n",
    "\n",
    "    # If the null values > 0 print the column, number of null values and the percentage of null values\n",
    "    if null_values > 0:\n",
    "      perc_null_vals = float(null_values)*100/rows\n",
    "      print(\"FEATURE: {}\".format(col))\n",
    "      print(\"NULL VALUES COUNT: {}\".format(null_values))\n",
    "      print(\"PERCENTAGE VALUES COUNT: {:.3f}%\".format(perc_null_vals))\n",
    "      print()\n",
    "  \n",
    "  # 3. Describe the data\n",
    "  print(\"DESCRIPTIVE STATISTICS\")\n",
    "  print()\n",
    "  print(data.describe())\n",
    "  print()\n",
    "\n",
    "  # 4. Print the data info\n",
    "  print(\"DATA INFROMATION\")\n",
    "  print()\n",
    "  print(data.info())"
   ]
  },
  {
   "cell_type": "code",
   "execution_count": null,
   "metadata": {},
   "outputs": [],
   "source": [
    "# Call the above function\n",
    "display_data_info(hotel_booking_data)"
   ]
  },
  {
   "cell_type": "markdown",
   "metadata": {},
   "source": [
    "**From the above output, we can observe null values in 4 columns but according to the research paper attached to the dataset it can be noted that NULL here, does not mean missing value, rather it mean Not Applicable. The snippet from the paper mentioning the above information is attached below.**"
   ]
  },
  {
   "cell_type": "code",
   "execution_count": null,
   "metadata": {},
   "outputs": [],
   "source": [
    "from IPython.display import Image\n",
    "Image(filename='Null-describe-Image.png')"
   ]
  },
  {
   "cell_type": "markdown",
   "metadata": {},
   "source": [
    "# Null values treatment"
   ]
  },
  {
   "cell_type": "code",
   "execution_count": null,
   "metadata": {},
   "outputs": [],
   "source": [
    "# Create new categories for both the agent and the company column\n",
    "hotel_booking_data['agent'] = hotel_booking_data['agent'].fillna('Not Applicable')\n",
    "hotel_booking_data['company'] = hotel_booking_data['company'].fillna('Not Applicable')"
   ]
  },
  {
   "cell_type": "code",
   "execution_count": null,
   "metadata": {},
   "outputs": [],
   "source": [
    "# null values in children column could mean 0 children and null values in the country column can be seen as unknown countries\n",
    "hotel_booking_data['children'] = hotel_booking_data['children'].fillna(0)\n",
    "hotel_booking_data['country'] = hotel_booking_data['country'].fillna('Unknown')"
   ]
  },
  {
   "cell_type": "code",
   "execution_count": null,
   "metadata": {},
   "outputs": [],
   "source": [
    "# Check null values again\n",
    "hotel_booking_data.isnull().sum()"
   ]
  },
  {
   "cell_type": "markdown",
   "metadata": {},
   "source": [
    "**Data has no more null values.**"
   ]
  },
  {
   "cell_type": "code",
   "execution_count": null,
   "metadata": {},
   "outputs": [],
   "source": [
    "hotel_booking_data.head()"
   ]
  },
  {
   "cell_type": "markdown",
   "metadata": {},
   "source": [
    "**As per the paper there are 2 types of hotel:**\n",
    "\n",
    "\n",
    "*   City Hotel\n",
    "*   Resort Hotel\n",
    "\n",
    "\n"
   ]
  },
  {
   "cell_type": "code",
   "execution_count": null,
   "metadata": {},
   "outputs": [],
   "source": [
    "hotel_booking_data['hotel'].value_counts()"
   ]
  },
  {
   "cell_type": "code",
   "execution_count": null,
   "metadata": {},
   "outputs": [],
   "source": [
    "# Plot the countplot for both the hotel types\n",
    "sns.set(style = \"darkgrid\")\n",
    "plt.figure(figsize=(5,4))\n",
    "plt.title('Hotel Type', fontdict = {'fontsize': 15})\n",
    "sns.countplot(data=hotel_booking_data, x = 'hotel')\n",
    "plt.show()"
   ]
  },
  {
   "cell_type": "code",
   "execution_count": null,
   "metadata": {},
   "outputs": [],
   "source": [
    "hotel_booking_data.head()"
   ]
  },
  {
   "cell_type": "markdown",
   "metadata": {},
   "source": [
    "**Next, visualise the number of customers by country**"
   ]
  },
  {
   "cell_type": "code",
   "execution_count": null,
   "metadata": {},
   "outputs": [],
   "source": [
    "# Plotting a pie-chart to visualise the number of records by country\n",
    "\n",
    "'''\n",
    "This analysis involves 3 parts:\n",
    "1. Visualising the number of bookings by country.\n",
    "2. Visualising the number of confirmed(non-cancelled) bookings by country.\n",
    "3. Visualising the number of cancelled bookings by country.\n",
    "'''\n",
    "\n",
    "\n",
    "# Extract the total country data\n",
    "total_country_data =  hotel_booking_data['country'].value_counts().to_frame().reset_index()\n",
    "total_country_data.rename(columns = {'index' : 'country', 'country' : 'guest_count'}, inplace=True)\n",
    "\n",
    "# Extract the total country data with confirmed bookings\n",
    "total_country_data_confirmed =  hotel_booking_data[hotel_booking_data['is_canceled'] == 0]['country'].value_counts().to_frame().reset_index()\n",
    "total_country_data_confirmed.rename(columns = {'index' : 'country', 'country' : 'guest_count_confirmed'}, inplace=True)\n",
    "\n",
    "# Extract the total country data with canceled bookings\n",
    "total_country_data_canceled =  hotel_booking_data[hotel_booking_data['is_canceled'] == 1]['country'].value_counts().to_frame().reset_index()\n",
    "total_country_data_canceled.rename(columns = {'index' : 'country', 'country' : 'guest_count_canceled'}, inplace=True)\n",
    "\n",
    "\n",
    "#################################################################### PLOT THE PIE CHARTS ##########################################################################################\n",
    "\n",
    "fig = make_subplots(rows=1, cols=3, specs=[[{\"type\": \"pie\"}, {\"type\": \"pie\"}, {\"type\": \"pie\"}]])\n",
    "\n",
    "# 1 Visualising the number of bookings by country\n",
    "fig.add_trace(go.Pie(labels = total_country_data['country'].values.tolist(), \n",
    "                     values=total_country_data['guest_count'].values.tolist(), \n",
    "                     title = 'Total Bookings Across Countries'), 1, 1)\n",
    "\n",
    "# 2. Visualising the number of confirmed(non-cancelled) bookings by country\n",
    "fig.add_trace(go.Pie(labels = total_country_data_confirmed['country'].values.tolist(), \n",
    "                     values=total_country_data_confirmed['guest_count_confirmed'].values.tolist(), \n",
    "                     title = 'Total Confirmed Bookings Across Countries'), 1, 2)\n",
    "\n",
    "# 3. Visualising the number of cancelled bookings by country\n",
    "fig.add_trace(go.Pie(labels = total_country_data_canceled['country'].values.tolist(), \n",
    "                    values=total_country_data_canceled['guest_count_canceled'].values.tolist(), \n",
    "                    title = 'Total Canceled Bookings Across Countries'), 1, 3)\n",
    "# Update the traces\n",
    "fig.update_traces(textposition=\"inside\", textinfo=\"label+percent+value\",textfont_size=12,\n",
    "                  marker=dict(line=dict(color='black', width=0.5)))\n"
   ]
  },
  {
   "cell_type": "code",
   "execution_count": null,
   "metadata": {},
   "outputs": [],
   "source": [
    "# Display the total bookings (including confirmed and canceled) across countries on the World Map\n",
    "\n",
    "# Calculate the percentage of bookings across countries\n",
    "total_country_data['%_guest_across_countries'] = np.round(total_country_data['guest_count']*100/total_country_data['guest_count'].sum(), 2)\n",
    "\n",
    "# Plot the map\n",
    "bookings_map = px.choropleth(total_country_data,\n",
    "                             locations=total_country_data['country'],\n",
    "                             color=total_country_data[\"%_guest_across_countries\"], \n",
    "                             hover_name=total_country_data[\"country\"], \n",
    "                             color_continuous_scale=px.colors.sequential.Plasma,\n",
    "                             title=\"Total Bookings Across Countries\")\n",
    "bookings_map.show()"
   ]
  },
  {
   "cell_type": "code",
   "execution_count": null,
   "metadata": {},
   "outputs": [],
   "source": [
    "hotel_booking_data.head()"
   ]
  },
  {
   "cell_type": "code",
   "execution_count": null,
   "metadata": {},
   "outputs": [],
   "source": [
    "hotel_booking_data['arrival_date_month'].value_counts()"
   ]
  },
  {
   "cell_type": "code",
   "execution_count": null,
   "metadata": {},
   "outputs": [],
   "source": [
    "# Create a feature called arrival data\n",
    "\n",
    "#--> Map the name of the months with their corresponding numbers\n",
    "def map_months(x):\n",
    "\n",
    "  if x == 'January':\n",
    "    x = 1\n",
    "  elif x == 'February':\n",
    "    x = 2\n",
    "  elif x == 'March':\n",
    "    x = 3\n",
    "  elif x == 'April':\n",
    "    x = 4\n",
    "  elif x == 'May':\n",
    "    x = 5\n",
    "  elif x == 'June':\n",
    "    x = 6\n",
    "  elif x == 'July':\n",
    "    x = 7\n",
    "  elif x == 'August':\n",
    "    x = 8\n",
    "  elif x == 'September':\n",
    "    x = 9\n",
    "  elif x == 'October':\n",
    "    x = 10\n",
    "  elif x == 'November':\n",
    "    x = 11\n",
    "  elif x == 'December':\n",
    "    x = 12\n",
    "  return x\n",
    "\n",
    "# Use the above mapping to create a new feature\n",
    "hotel_booking_data['arrival_date_month_number'] = hotel_booking_data['arrival_date_month'].apply(lambda x : map_months(x))\n",
    "hotel_booking_data['arrival_date'] = hotel_booking_data['arrival_date_day_of_month'].astype('str') + '/' + hotel_booking_data['arrival_date_month_number'].astype('str') + '/'+ hotel_booking_data['arrival_date_year'].astype('str')"
   ]
  },
  {
   "cell_type": "markdown",
   "metadata": {},
   "source": [
    "**Visualise the total number of bookings for both the hotels combined**"
   ]
  },
  {
   "cell_type": "code",
   "execution_count": null,
   "metadata": {},
   "outputs": [],
   "source": [
    "# Convert into datetime variable\n",
    "hotel_booking_data['arrival_date'] = pd.to_datetime(hotel_booking_data['arrival_date'])"
   ]
  },
  {
   "cell_type": "code",
   "execution_count": null,
   "metadata": {},
   "outputs": [],
   "source": [
    "# Extract the total number of bookings for both the hotel types\n",
    "bookings_by_date = hotel_booking_data['arrival_date'].value_counts().to_frame()\n",
    "bookings_per_year = bookings_by_date.resample('y').sum().reset_index().rename(columns = {'index' : 'year', 'arrival_date': 'total_bookings'})\n",
    "\n",
    "# Plot a line chart to visualise the total annual bookings\n",
    "sns.lineplot(data = bookings_per_year, x = 'year', y = 'total_bookings')\n",
    "plt.xticks(rotation = -45)\n",
    "plt.title('Total Annual Bookings', fontdict = {'fontsize' : 15})\n",
    "plt.show()"
   ]
  },
  {
   "cell_type": "markdown",
   "metadata": {},
   "source": [
    "**Visualise the total annual bookings for both the hotels separately, to draw a comparison.**"
   ]
  },
  {
   "cell_type": "code",
   "execution_count": null,
   "metadata": {},
   "outputs": [],
   "source": [
    "# Extract the resort and city hotel data\n",
    "hotel_resort_data = hotel_booking_data[hotel_booking_data['hotel'] == 'Resort Hotel']\n",
    "hotel_city_data = hotel_booking_data[hotel_booking_data['hotel'] == 'City Hotel']\n",
    "\n",
    "# Extract the total annual bookings from both the frames\n",
    "\n",
    "# 1. Resort Hotel\n",
    "total_annual_bookings_resort = hotel_resort_data['arrival_date'].value_counts().to_frame().reset_index()\n",
    "total_annual_bookings_resort.rename(columns = {'index' : 'year', 'arrival_date': 'total_bookings'}, inplace=True)\n",
    "\n",
    "# 2. City Hotel\n",
    "total_annual_bookings_city = hotel_city_data['arrival_date'].value_counts().to_frame().reset_index()\n",
    "total_annual_bookings_city.rename(columns = {'index' : 'year', 'arrival_date': 'total_bookings'}, inplace=True)\n",
    "\n",
    "\n",
    "# Plot the line chart\n",
    "sns.set(style='darkgrid')\n",
    "fig, (ax1, ax2) = plt.subplots(1, 2, sharey=True, figsize=(12,4))\n",
    "sns.lineplot(data = total_annual_bookings_resort, x = 'year', y = 'total_bookings', label='Resort Hotel', ax=ax1)\n",
    "sns.lineplot(data = total_annual_bookings_city, x = 'year', y = 'total_bookings', label='City Hotel', ax=ax2)\n",
    "ax1.tick_params(labelrotation=45, axis='x')\n",
    "ax2.tick_params(labelrotation=45, axis='x')\n",
    "plt.suptitle('Total Annual Bookings')\n",
    "fig.show()\n"
   ]
  },
  {
   "cell_type": "markdown",
   "metadata": {},
   "source": [
    "**Visualisng the monthly bookings across both the hotel types.**"
   ]
  },
  {
   "cell_type": "code",
   "execution_count": null,
   "metadata": {},
   "outputs": [],
   "source": [
    "# Extract the monthly bookings for both the hotesl\n",
    "\n",
    "# 1. Resort Hotel\n",
    "total_monthly_bookings_resort = hotel_resort_data['arrival_date'].value_counts()\n",
    "total_monthly_bookings_resort = total_monthly_bookings_resort.resample('m').sum().to_frame().reset_index()\n",
    "total_monthly_bookings_resort.rename(columns = {'index' : 'months', 'arrival_date':'total_bookings'}, inplace=True)\n",
    "\n",
    "# 2. City Hotel\n",
    "total_monthly_bookings_city = hotel_city_data['arrival_date'].value_counts()\n",
    "total_monthly_bookings_city = total_monthly_bookings_city.resample('m').sum().to_frame().reset_index()\n",
    "total_monthly_bookings_city.rename(columns = {'index' : 'months', 'arrival_date':'total_bookings'}, inplace=True)\n",
    "\n",
    "# Plot the line charts\n",
    "fig = go.Figure()\n",
    "\n",
    "fig.add_trace(go.Scatter(x=total_monthly_bookings_resort['months'], y=total_monthly_bookings_resort['total_bookings'], name=\"Resort Hotel\"))\n",
    "fig.add_trace(go.Scatter(x=total_monthly_bookings_city['months'], y=total_monthly_bookings_city['total_bookings'], name=\"City Hotel\"))\n",
    "fig.update_layout(title_text='Total Monthly Bookings', title_x=0.5, title_font=dict(size=20))  # Location and the font size of the main title\n",
    "fig.update_layout(xaxis_title=\"Arrival Date\",yaxis_title=\"Total Bookings\")\n",
    "\n",
    "fig.show()"
   ]
  },
  {
   "cell_type": "code",
   "execution_count": null,
   "metadata": {},
   "outputs": [],
   "source": [
    "# Extract the daily bookings for both the hotesl\n",
    "\n",
    "# 1. Resort Hotel\n",
    "total_daily_bookings_resort = hotel_resort_data['arrival_date'].value_counts()\n",
    "total_daily_bookings_resort = total_daily_bookings_resort.resample('d').sum().to_frame().reset_index()\n",
    "total_daily_bookings_resort.rename(columns = {'index' : 'days', 'arrival_date':'total_bookings'}, inplace=True)\n",
    "\n",
    "# 2. City Hotel\n",
    "total_daily_bookings_city = hotel_city_data['arrival_date'].value_counts()\n",
    "total_daily_bookings_city = total_daily_bookings_city.resample('d').sum().to_frame().reset_index()\n",
    "total_daily_bookings_city.rename(columns = {'index' : 'days', 'arrival_date':'total_bookings'}, inplace=True)\n",
    "\n",
    "# Plot the line charts\n",
    "fig = go.Figure()\n",
    "\n",
    "fig.add_trace(go.Scatter(x=total_daily_bookings_resort['days'], y=total_daily_bookings_resort['total_bookings'], name=\"Resort Hotel\"))\n",
    "fig.add_trace(go.Scatter(x=total_daily_bookings_city['days'], y=total_daily_bookings_city['total_bookings'], name=\"City Hotel\"))\n",
    "fig.update_layout(title_text='Total Daily Bookings', title_x=0.5, title_font=dict(size=20))  # Location and the font size of the main title\n",
    "fig.update_layout(xaxis_title=\"Arrival Date\",yaxis_title=\"Total Bookings\")\n",
    "\n",
    "fig.show()"
   ]
  },
  {
   "cell_type": "markdown",
   "metadata": {},
   "source": [
    "**Visualise the total weekly bookings**"
   ]
  },
  {
   "cell_type": "code",
   "execution_count": null,
   "metadata": {},
   "outputs": [],
   "source": [
    "# Extract the weekly bookings for both the hotels\n",
    "\n",
    "# 1. Resort Hotel\n",
    "total_weekly_bookings_resort = hotel_resort_data['arrival_date_week_number'].value_counts().to_frame().reset_index()\n",
    "total_weekly_bookings_resort.rename(columns = {'index':'week number', 'arrival_date_week_number' : 'total_bookings'}, inplace=True)\n",
    "\n",
    "# 2. City Hotel\n",
    "total_weekly_bookings_city = hotel_city_data['arrival_date_week_number'].value_counts().to_frame().reset_index()\n",
    "total_weekly_bookings_city.rename(columns = {'index':'week number', 'arrival_date_week_number' : 'total_bookings'}, inplace=True)\n",
    "\n",
    "# Plot the line charts\n",
    "fig, ax = plt.subplots(1, 2, sharey=True, figsize=(12,4))\n",
    "sns.lineplot(data = total_weekly_bookings_resort, x = 'week number', y = 'total_bookings', ax = ax[0])\n",
    "sns.lineplot(data = total_weekly_bookings_city, x = 'week number', y = 'total_bookings', ax = ax[1])\n",
    "plt.suptitle('Total Weekly Bookings')\n",
    "plt.show()"
   ]
  },
  {
   "cell_type": "markdown",
   "metadata": {},
   "source": [
    "**Next, I try to draw some insights on total bookings across market_segment,distribution_channel, deposit_type, customer_type and reservation_status.**\t"
   ]
  },
  {
   "cell_type": "code",
   "execution_count": null,
   "metadata": {},
   "outputs": [],
   "source": [
    "# 1. Visualise the count of each marget segment across both the hotel types\n",
    "plt.figure(figsize=(12, 4))\n",
    "sns.countplot(data=hotel_booking_data, x = 'market_segment', hue='hotel')\n",
    "plt.title('Market Segment Count Across Hotel', fontdict={'fontsize' : 20})\n",
    "plt.show()"
   ]
  },
  {
   "cell_type": "code",
   "execution_count": null,
   "metadata": {},
   "outputs": [],
   "source": [
    "# Extract the data for every market segment for both city and the resort hotel\n",
    "\n",
    "mark_seg_direct = hotel_booking_data[hotel_booking_data['market_segment'] == 'Direct']['arrival_date'].value_counts().resample('m').sum().to_frame()\n",
    "mark_seg_online = hotel_booking_data[hotel_booking_data['market_segment'] == 'Online TA ']['arrival_date'].value_counts().resample('m').sum().to_frame()\n",
    "mark_seg_offline = hotel_booking_data[hotel_booking_data['market_segment'] == 'Offline TA/TO']['arrival_date'].value_counts().resample('m').sum().to_frame()\n",
    "mark_seg_groups = hotel_booking_data[hotel_booking_data['market_segment'] == 'Groups']['arrival_date'].value_counts().resample('m').sum().to_frame()\n",
    "mark_seg_corporate = hotel_booking_data[hotel_booking_data['market_segment'] == 'Corporate']['arrival_date'].value_counts().resample('m').sum().to_frame()\n",
    "mark_seg_complementary = hotel_booking_data[hotel_booking_data['market_segment'] == 'Complementary']['arrival_date'].value_counts().resample('m').sum().to_frame()\n",
    "mark_seg_aviation = hotel_booking_data[hotel_booking_data['market_segment'] == 'Aviation']['arrival_date'].value_counts().resample('m').sum().to_frame()\n",
    "\n",
    "\n",
    "################################################################### SUBPLOT ACROSS MARKET SEGMENT ##################################################################################\n",
    "\n",
    "fig = go.Figure()\n",
    "fig.add_trace(go.Scatter(x=mark_seg_direct.index, y=mark_seg_direct['arrival_date'], name=\"Direct\"))\n",
    "fig.add_trace(go.Scatter(x=mark_seg_online.index, y=mark_seg_online['arrival_date'], name=\"Online TA\"))\n",
    "fig.add_trace(go.Scatter(x=mark_seg_offline.index, y=mark_seg_offline['arrival_date'], name=\"Offline TA/TO\"))\n",
    "fig.add_trace(go.Scatter(x=mark_seg_groups.index, y=mark_seg_groups['arrival_date'], name=\"Groups\"))\n",
    "fig.add_trace(go.Scatter(x=mark_seg_corporate.index, y=mark_seg_corporate['arrival_date'], name=\"Corporate\"))\n",
    "fig.add_trace(go.Scatter(x=mark_seg_complementary.index, y=mark_seg_complementary['arrival_date'], name=\"Complementary\"))\n",
    "fig.add_trace(go.Scatter(x=mark_seg_aviation.index, y=mark_seg_aviation['arrival_date'], name=\"Aviation\"))\n",
    "fig.update_layout(title_text='Total Monthly Bookings Across Market Segments', title_x=0.5, title_font=dict(size=20))  \n",
    "fig.update_layout(xaxis_title=\"Arrival Date\",yaxis_title=\"Total Bookings\")\n",
    "fig.show()"
   ]
  },
  {
   "cell_type": "code",
   "execution_count": null,
   "metadata": {},
   "outputs": [],
   "source": [
    "# Visualise the distribution channel count across hotel\n",
    "plt.figure(figsize=(12, 4))\n",
    "sns.countplot(data=hotel_booking_data, x = 'distribution_channel', hue='hotel')\n",
    "plt.title('Distribution Channel Count Across Hotel', fontdict={'fontsize' : 20})\n",
    "plt.show()"
   ]
  },
  {
   "cell_type": "code",
   "execution_count": null,
   "metadata": {},
   "outputs": [],
   "source": [
    "# Extract the data for every distribution channel for both city and the resort hotel\n",
    "\n",
    "distibution_channel_ta_to = hotel_booking_data[hotel_booking_data['distribution_channel'] == 'TA/TO']['arrival_date'].value_counts().resample('m').sum().to_frame()\n",
    "distibution_channel_direct = hotel_booking_data[hotel_booking_data['distribution_channel'] == 'Direct']['arrival_date'].value_counts().resample('m').sum().to_frame()\n",
    "distibution_channel_corporate = hotel_booking_data[hotel_booking_data['distribution_channel'] == 'Corporate']['arrival_date'].value_counts().resample('m').sum().to_frame()\n",
    "distibution_channel_gds = hotel_booking_data[hotel_booking_data['distribution_channel'] == 'GDS']['arrival_date'].value_counts().resample('m').sum().to_frame()\n",
    "distibution_channel_undefined = hotel_booking_data[hotel_booking_data['distribution_channel'] == 'Undefined']['arrival_date'].value_counts().resample('m').sum().to_frame()\n",
    "\n",
    "################################################################### SUBPLOT ACROSS Distribution Channel ##################################################################################\n",
    "\n",
    "fig = go.Figure()\n",
    "fig.add_trace(go.Scatter(x=distibution_channel_ta_to.index, y=distibution_channel_ta_to['arrival_date'], name=\"TA/TO\"))\n",
    "fig.add_trace(go.Scatter(x=distibution_channel_direct.index, y=distibution_channel_direct['arrival_date'], name=\"Direct\"))\n",
    "fig.add_trace(go.Scatter(x=distibution_channel_corporate.index, y=distibution_channel_corporate['arrival_date'], name=\"Corporate\"))\n",
    "fig.add_trace(go.Scatter(x=distibution_channel_gds.index, y=distibution_channel_gds['arrival_date'], name=\"GDS\"))\n",
    "fig.add_trace(go.Scatter(x=distibution_channel_gds.index, y=distibution_channel_gds['arrival_date'], name=\"Undefined\"))\n",
    "fig.update_layout(title_text='Total Monthly Bookings Across Distribution Channel', title_x=0.5, title_font=dict(size=20))  \n",
    "fig.update_layout(xaxis_title=\"Arrival Date\",yaxis_title=\"Total Bookings\")\n",
    "fig.show()"
   ]
  },
  {
   "cell_type": "code",
   "execution_count": null,
   "metadata": {},
   "outputs": [],
   "source": [
    "# 1. Visualise the deposit_type across hotel \n",
    "plt.figure(figsize=(12, 4))\n",
    "sns.countplot(data=hotel_booking_data, x = 'deposit_type', hue='hotel')\n",
    "plt.title('Deposit Type Count Across Hotel', fontdict={'fontsize' : 20})\n",
    "plt.show()"
   ]
  },
  {
   "cell_type": "code",
   "execution_count": null,
   "metadata": {},
   "outputs": [],
   "source": [
    "# Extract the data for every distribution channel for both city and the resort hotel\n",
    "\n",
    "deposit_type_no_deposit = hotel_booking_data[hotel_booking_data['deposit_type'] == 'No Deposit']['arrival_date'].value_counts().resample('m').sum().to_frame()\n",
    "deposit_type_non_refund = hotel_booking_data[hotel_booking_data['deposit_type'] == 'Non Refund']['arrival_date'].value_counts().resample('m').sum().to_frame()\n",
    "deposit_type_refundable = hotel_booking_data[hotel_booking_data['deposit_type'] == 'Refundable']['arrival_date'].value_counts().resample('m').sum().to_frame()\n",
    "\n",
    "################################################################### SUBPLOT ACROSS DEPOSIT TYPE ##################################################################################\n",
    "\n",
    "fig = go.Figure()\n",
    "fig.add_trace(go.Scatter(x=deposit_type_no_deposit.index, y=deposit_type_no_deposit['arrival_date'], name=\"No Deposit\"))\n",
    "fig.add_trace(go.Scatter(x=deposit_type_non_refund.index, y=deposit_type_non_refund['arrival_date'], name=\"Non Refund\"))\n",
    "fig.add_trace(go.Scatter(x=deposit_type_refundable.index, y=deposit_type_refundable['arrival_date'], name=\"Refundable\"))\n",
    "fig.update_layout(title_text='Total Monthly Bookings Across Deposit Type', title_x=0.5, title_font=dict(size=20))  \n",
    "fig.update_layout(xaxis_title=\"Arrival Date\",yaxis_title=\"Total Bookings\")\n",
    "fig.show()"
   ]
  },
  {
   "cell_type": "code",
   "execution_count": null,
   "metadata": {},
   "outputs": [],
   "source": [
    "# 1. Visualise the cutomer type across hotel \n",
    "plt.figure(figsize=(12, 4))\n",
    "sns.countplot(data=hotel_booking_data, x = 'customer_type', hue='hotel')\n",
    "plt.title('Customer Type Count Across Hotel', fontdict={'fontsize' : 20})\n",
    "plt.show()"
   ]
  },
  {
   "cell_type": "code",
   "execution_count": null,
   "metadata": {},
   "outputs": [],
   "source": [
    "# Extract the data for every Customer Type for both city and the resort hotel\n",
    "\n",
    "cutomer_type_transient = hotel_booking_data[hotel_booking_data['customer_type'] == 'Transient']['arrival_date'].value_counts().resample('m').sum().to_frame()\n",
    "customer_type_transient_party = hotel_booking_data[hotel_booking_data['customer_type'] == 'Transient-Party']['arrival_date'].value_counts().resample('m').sum().to_frame()\n",
    "customer_type_contract = hotel_booking_data[hotel_booking_data['customer_type'] == 'Contract']['arrival_date'].value_counts().resample('m').sum().to_frame()\n",
    "\n",
    "#SUBPLOT ACROSS DEPOSIT TYPE\n",
    "fig = go.Figure()\n",
    "fig.add_trace(go.Scatter(x=cutomer_type_transient.index, y=cutomer_type_transient['arrival_date'], name=\"Transient\"))\n",
    "fig.add_trace(go.Scatter(x=customer_type_transient_party.index, y=customer_type_transient_party['arrival_date'], name=\"Transient-Party\"))\n",
    "fig.add_trace(go.Scatter(x=customer_type_contract.index, y=customer_type_contract['arrival_date'], name=\"Contract\"))\n",
    "fig.update_layout(title_text='Total Monthly Bookings Across Customer Type', title_x=0.5, title_font=dict(size=20))  \n",
    "fig.update_layout(xaxis_title=\"Arrival Date\",yaxis_title=\"Total Bookings\")\n",
    "fig.show()"
   ]
  },
  {
   "cell_type": "markdown",
   "metadata": {},
   "source": [
    "**Visualise the amount guests pay per night and how does it vary.**\n",
    "\n",
    "*Assumption : Since, majority of the data is for Portugal, then I am assuming that the hotel is actually in Portugal and currency used their is Euro.*"
   ]
  },
  {
   "cell_type": "code",
   "execution_count": null,
   "metadata": {},
   "outputs": [],
   "source": [
    "# Average Daily Rate per person across both the hotel types\n",
    "hotel_resort_data['adr_pp'] = hotel_resort_data['adr']/(hotel_resort_data['adults'] + hotel_resort_data['children'] + hotel_resort_data['babies'])\n",
    "hotel_city_data['adr_pp'] = hotel_city_data['adr']/(hotel_city_data['adults'] + hotel_city_data['children'] + hotel_city_data['babies'])\n",
    "\n",
    "fig, ax = plt.subplots(1, 2, sharey=True, figsize=(12,4))\n",
    "sns.lineplot(data=hotel_resort_data, x = 'arrival_date', y = 'adr_pp', ax = ax[0])\n",
    "sns.lineplot(data=hotel_city_data, x = 'arrival_date', y = 'adr_pp', ax = ax[1])\n",
    "ax[0].tick_params(labelrotation=45, axis='x')\n",
    "ax[1].tick_params(labelrotation=45, axis='x')\n",
    "fig.show()"
   ]
  },
  {
   "cell_type": "markdown",
   "metadata": {},
   "source": [
    "**Average Deposit Rate Per Person across different room types.**"
   ]
  },
  {
   "cell_type": "code",
   "execution_count": null,
   "metadata": {},
   "outputs": [],
   "source": [
    "hotel_booking_data['adr_pp'] = hotel_booking_data['adr']/(hotel_booking_data['adults'] + hotel_booking_data['children'] + hotel_booking_data['babies'])"
   ]
  },
  {
   "cell_type": "code",
   "execution_count": null,
   "metadata": {},
   "outputs": [],
   "source": [
    "# Calcualte the average and maximum ADR across City Hotel\n",
    "avg_adr_city = hotel_city_data['adr'].mean()\n",
    "max_adr_city = hotel_city_data['adr'].max()\n",
    "\n",
    "# Calcualte the average and maximum ADR across Resort Hotel\n",
    "avg_adr_resort = hotel_resort_data['adr'].mean()\n",
    "max_adr_resort = hotel_resort_data['adr'].max()"
   ]
  },
  {
   "cell_type": "code",
   "execution_count": null,
   "metadata": {},
   "outputs": [],
   "source": [
    "print(\"Mean ADR for City Hotel is {:.2f}\".format(avg_adr_city))\n",
    "print(\"Mean ADR for Resort Hotel is {:.2f}\".format(avg_adr_resort))\n",
    "\n",
    "print(\"Max ADR for City Hotel is {}\".format(max_adr_city))\n",
    "print(\"Max ADR for Resort Hotel is {}\".format(max_adr_resort))"
   ]
  },
  {
   "cell_type": "code",
   "execution_count": null,
   "metadata": {},
   "outputs": [],
   "source": [
    "# visualising adr_pp across reserved room type\n",
    "plt.figure(figsize=(12,4))\n",
    "sns.boxplot(data=hotel_booking_data[hotel_booking_data['is_canceled'] == 0], x = 'reserved_room_type', y = 'adr_pp', hue = 'hotel') # Note: Here considering only confirmed bookings\n",
    "plt.title(\"Average Daily Rate Across Reserved Room Types\", fontdict = {'fontsize' : 20})\n",
    "plt.xlabel('Room Types')\n",
    "plt.ylabel('Average Daily Rate Per Person')\n",
    "plt.ylim(0,200)\n",
    "plt.show()\n",
    "\n",
    "# visualising adr_pp across assigned room type\n",
    "plt.figure(figsize=(12,4))\n",
    "sns.boxplot(data=hotel_booking_data[hotel_booking_data['is_canceled'] == 0], x = 'assigned_room_type', y = 'adr_pp', hue = 'hotel') # Note: Here considering only confirmed bookings\n",
    "plt.title(\"Average Daily Rate Across Assigned Room Types\", fontdict = {'fontsize' : 20})\n",
    "plt.xlabel('Room Types')\n",
    "plt.ylabel('Average Daily Rate Per Person')\n",
    "plt.ylim(0,200)\n",
    "plt.show()"
   ]
  },
  {
   "cell_type": "markdown",
   "metadata": {},
   "source": [
    "**Outliers can be observed**"
   ]
  },
  {
   "cell_type": "markdown",
   "metadata": {},
   "source": [
    "**Visualising adr across meal.**"
   ]
  },
  {
   "cell_type": "code",
   "execution_count": null,
   "metadata": {},
   "outputs": [],
   "source": [
    "# visualising adr_pp across meal\n",
    "plt.figure(figsize=(12,4))\n",
    "sns.boxplot(data=hotel_booking_data[hotel_booking_data['is_canceled'] == 0], x = 'meal', y = 'adr', hue = 'hotel') # Note: Here considering only confirmed bookings\n",
    "plt.title(\"Average Daily Rate Across Reserved Room Types\", fontdict = {'fontsize' : 20})\n",
    "plt.xlabel('Meal')\n",
    "plt.ylabel('Average Daily Rate')\n",
    "plt.ylim(0,200)\n",
    "plt.show()"
   ]
  },
  {
   "cell_type": "code",
   "execution_count": null,
   "metadata": {},
   "outputs": [],
   "source": [
    "sns.countplot(data = hotel_booking_data, x = 'meal', hue='hotel')\n",
    "plt.title('Meal Category Across Hotel', fontdict={'fontsize' : 20})\n",
    "plt.show()"
   ]
  },
  {
   "cell_type": "markdown",
   "metadata": {},
   "source": [
    "\n",
    "\n",
    "*   Average Daily Rate across FB meal category for city hotel is very less.\n",
    "*   Average Daily Rate across SC meal category for resort hotel is very less.\n",
    "*   BB Meal Category is preferred across both the hotels.\n",
    "\n",
    "\n"
   ]
  },
  {
   "cell_type": "markdown",
   "metadata": {},
   "source": [
    "**Variation of ADR monthly and anually**"
   ]
  },
  {
   "cell_type": "code",
   "execution_count": null,
   "metadata": {},
   "outputs": [],
   "source": [
    "# Extract the monthly adr data\n",
    "adr_monthly = hotel_booking_data[[\"hotel\", \"arrival_date_month\", \"adr\"]].sort_values(\"arrival_date_month\")\n",
    "\n",
    "# Order the data by months\n",
    "ordered_months = [\"January\", \"February\", \"March\", \"April\", \"May\", \"June\", \"July\", \"August\", \"September\", \"October\", \"November\", \"December\"]\n",
    "adr_monthly[\"arrival_date_month\"] = pd.Categorical(adr_monthly[\"arrival_date_month\"], categories=ordered_months, ordered=True)\n",
    "\n",
    "############################################################ PLOT THE VARIATION OF ADR ACROSS MONTHS ######################################################\n",
    "\n",
    "# Plot ADR versus Months\n",
    "plt.figure(figsize=(12,4))\n",
    "sns.lineplot(data=adr_monthly , x='arrival_date_month', y='adr', hue='hotel', palette='hot')\n",
    "plt.title('Average Daily Rate Per Month', fontdict={'fontsize' : 20})\n",
    "plt.xlabel('Month')\n",
    "plt.ylabel('Average Daily Rate')\n",
    "plt.show()"
   ]
  },
  {
   "cell_type": "markdown",
   "metadata": {},
   "source": [
    "**Average Daily Rate surges during summer months.**"
   ]
  },
  {
   "cell_type": "code",
   "execution_count": null,
   "metadata": {},
   "outputs": [],
   "source": [
    "# Variation of ADR annually\n",
    "plt.figure(figsize=(12,4))\n",
    "sns.lineplot(data=hotel_booking_data , x='arrival_date_year', y='adr', hue='hotel', palette='hot')\n",
    "plt.title('Average Daily Rate Across Year', fontdict={'fontsize' : 20})\n",
    "plt.xlabel('Year')\n",
    "plt.ylabel('Average Daily Rate')\n",
    "plt.xticks(np.arange(2015, 2018, 1))\n",
    "plt.show()"
   ]
  },
  {
   "cell_type": "markdown",
   "metadata": {},
   "source": [
    "\n",
    "\n",
    "1.   ADR for Resort Hotel is observes a slight dip from 2015 to 2016, then increases linearly from 2016 till 2017.\n",
    "2.   ADR for City Hotel has been increasing approximately Linearly for three years.\n",
    "\n"
   ]
  },
  {
   "cell_type": "code",
   "execution_count": null,
   "metadata": {},
   "outputs": [],
   "source": [
    "# Display the Maximum and Mean ADR for both the hotels for all the three years\n",
    "\n",
    "\n",
    "# 1. City Hotel\n",
    "for year in list((2015, 2016, 2017)):\n",
    "\n",
    "  # Calculate the Max and Mean ADR for a particular year\n",
    "  max_adr = hotel_city_data[hotel_city_data['arrival_date_year'] == year]['adr'].max()\n",
    "  mean_adr = hotel_city_data[hotel_city_data['arrival_date_year'] == year]['adr'].mean()\n",
    "\n",
    "  print(\"Maximum ADR for City Hotel in the year {} is {}\".format(year, max_adr))\n",
    "  print(\"Mean ADR for City Hotel in the year {} is {:.2f}\".format(year, mean_adr))\n",
    "\n",
    "# 2. Resort Hotel\n",
    "for year in list((2015, 2016, 2017)):\n",
    "\n",
    "  max_adr = hotel_resort_data[hotel_resort_data['arrival_date_year'] == year]['adr'].max()\n",
    "  mean_adr = hotel_resort_data[hotel_resort_data['arrival_date_year'] == year]['adr'].mean()\n",
    "\n",
    "  print(\"Maximum ADR for Resort Hotel in the year {} is {}\".format(year, max_adr))\n",
    "  print(\"Mean ADR for Resort Hotel in the year {} is {:.2f}\".format(year, mean_adr))"
   ]
  },
  {
   "cell_type": "code",
   "execution_count": null,
   "metadata": {},
   "outputs": [],
   "source": [
    "hotel_booking_data.head()"
   ]
  },
  {
   "cell_type": "markdown",
   "metadata": {},
   "source": [
    "**Variation of ADR Across various Market Segments, Distribution Channel, Customer Type, Number of Special Requests.**"
   ]
  },
  {
   "cell_type": "code",
   "execution_count": null,
   "metadata": {},
   "outputs": [],
   "source": [
    "fig, ax = plt.subplots(2, 2, figsize=(25,25))\n",
    "\n",
    "# 1. Variation of ADR across market segments for both the hotels\n",
    "sns.boxplot(data=hotel_booking_data, x='market_segment', y='adr', hue='hotel', ax=ax[0][0])\n",
    "ax[0][0].set_xlabel('Market Segments')\n",
    "ax[0][0].set_ylabel('Average Daily Rate')\n",
    "ax[0][0].set_title('Average Daily Rate For Market Segments Across Hotels')\n",
    "ax[0][0].set_ylim(0,400)\n",
    "ax[0][0].tick_params(labelrotation=45, axis='x')\n",
    "\n",
    "# 2. Variation of ADR across customer type for both the hotels\n",
    "sns.boxplot(data=hotel_booking_data, x='customer_type', y='adr', hue='hotel', ax=ax[0][1])\n",
    "ax[0][1].set_xlabel('Customer Type')\n",
    "ax[0][1].set_ylabel('Average Daily Rate')\n",
    "ax[0][1].set_title('Average Daily Rate For Customer Types Across Hotels')\n",
    "ax[0][1].set_ylim(0,400)\n",
    "ax[0][1].tick_params(labelrotation=45, axis='x')\n",
    "\n",
    "# 3. Variation of ADR across distribution channel for both the hotels\n",
    "sns.boxplot(data=hotel_booking_data, x='distribution_channel', y='adr', hue='hotel', ax=ax[1][0])\n",
    "ax[1][0].set_xlabel('Distribution Channel')\n",
    "ax[1][0].set_ylabel('Average Daily Rate')\n",
    "ax[1][0].set_title('Average Daily Rate For Distribution Channel Across Hotels')\n",
    "ax[1][0].set_ylim(0,400)\n",
    "ax[1][0].tick_params(labelrotation=45, axis='x')\n",
    "\n",
    "# 4. Variation of ADR across number of special requests for both the hotels\n",
    "sns.barplot(data=hotel_booking_data, x='total_of_special_requests', y='adr', hue='hotel', ax=ax[1][1])\n",
    "ax[1][1].set_xlabel('Total Special Requests')\n",
    "ax[1][1].set_ylabel('Average Daily Rate')\n",
    "ax[1][1].set_title('Average Daily Rate For Total Special Requests Across Hotels')\n",
    "ax[1][1].tick_params(labelrotation=45, axis='x')\n",
    "\n",
    "fig.show()"
   ]
  },
  {
   "cell_type": "code",
   "execution_count": null,
   "metadata": {},
   "outputs": [],
   "source": [
    "# Some important statistics\n",
    "\n",
    "# Checking count of canceled bookings across hotels and count of repeated guests across both the hotels\n",
    "fig, ax = plt.subplots(1, 2, figsize=(12,4))\n",
    "\n",
    "sns.countplot(data=hotel_booking_data, x='is_canceled', hue='hotel', ax=ax[0])\n",
    "ax[0].set_title('Number of Cancelations Across Hotel')\n",
    "ax[0].set_xlabel('0 : Not Caneled, 1 : Canceled')\n",
    "sns.countplot(data=hotel_booking_data, x='is_repeated_guest', hue='hotel', ax=ax[1])\n",
    "ax[1].set_title('Number of Repeated Guests Across Hotel')\n",
    "ax[1].set_xlabel('0 : Not a Repeated Guest, 1 : Repeated Guest')\n",
    "\n",
    "fig.show()"
   ]
  },
  {
   "cell_type": "markdown",
   "metadata": {},
   "source": [
    "\n",
    "\n",
    "*   Confirmed Bookings are more than the Canceled Bookings for both the hotels.\n",
    "*   Very few repeated guests for both the hotels.\n",
    "\n"
   ]
  },
  {
   "cell_type": "code",
   "execution_count": null,
   "metadata": {},
   "outputs": [],
   "source": [
    "# Cancelation across months for City Hotel\n",
    "plt.figure(figsize=(15,8))\n",
    "sns.countplot(data=hotel_city_data, x='is_canceled', hue='arrival_date_month')\n",
    "plt.xlabel('0:Not Canceled, 1:Canceled')\n",
    "plt.title(\"Cancelations Across Months For City Hotel\", fontdict={'fontsize':20})\n",
    "plt.show()\n",
    "\n",
    "# Cancelation across months for City Hotel\n",
    "plt.figure(figsize=(15,8))\n",
    "sns.countplot(data=hotel_resort_data, x='is_canceled', hue='arrival_date_month')\n",
    "plt.xlabel('0:Not Canceled, 1:Canceled')\n",
    "plt.title(\"Cancelations Across Months For Resort Hotel\", fontdict={'fontsize':20})\n",
    "plt.show()"
   ]
  },
  {
   "cell_type": "code",
   "execution_count": null,
   "metadata": {},
   "outputs": [],
   "source": [
    "# Cancelation across city hotel for each customer type\n",
    "plt.figure(figsize=(12,4))\n",
    "sns.countplot(data=hotel_city_data, x='is_canceled', hue='customer_type')\n",
    "plt.title('Cancelations Across Customer Types For City Hotel', fontdict={'fontsize':20})\n",
    "plt.xlabel('0: Not Canceled, 1: Canceled')\n",
    "plt.show()\n",
    "\n",
    "# Cancelation across resort hotel for each customer type\n",
    "plt.figure(figsize=(12,4))\n",
    "sns.countplot(data=hotel_resort_data, x='is_canceled', hue='customer_type')\n",
    "plt.title('Cancelations Across Customer Types For Resort Hotel', fontdict={'fontsize':20})\n",
    "plt.xlabel('0: Not Canceled, 1: Canceled')\n",
    "plt.show()"
   ]
  },
  {
   "cell_type": "markdown",
   "metadata": {},
   "source": [
    "\n",
    "\n",
    "*   For City Hotel the pattern observed for canceled bookings and confirmed bookings(Not Canceled) is same.\n",
    "*   No cancelations can be observed across Contract and Group category in Resort Hotel.\n",
    "\n"
   ]
  },
  {
   "cell_type": "code",
   "execution_count": null,
   "metadata": {},
   "outputs": [],
   "source": [
    "# Cancelation across city hotel for every year\n",
    "plt.figure(figsize=(12,4))\n",
    "sns.countplot(data=hotel_city_data, x='is_canceled', hue='arrival_date_year')\n",
    "plt.title('Cancelations Across Years For City Hotel', fontdict={'fontsize':20})\n",
    "plt.xlabel('0: Not Canceled, 1: Canceled')\n",
    "plt.show()\n",
    "\n",
    "# Cancelation across resort hotel for every year\n",
    "plt.figure(figsize=(12,4))\n",
    "sns.countplot(data=hotel_resort_data, x='is_canceled', hue='arrival_date_year')\n",
    "plt.title('Cancelations Across Years For Resort Hotel', fontdict={'fontsize':20})\n",
    "plt.xlabel('0: Not Canceled, 1: Canceled')\n",
    "plt.show()"
   ]
  },
  {
   "cell_type": "code",
   "execution_count": null,
   "metadata": {},
   "outputs": [],
   "source": [
    "# Distribution of number of days of stay\n",
    "\n",
    "# Extract the data for only those customers who did actually come\n",
    "hotel_booking_data_confirmed = hotel_booking_data[hotel_booking_data['reservation_status'] == 'Check-Out'][['reservation_status_date', 'arrival_date']]\n",
    "total_days_of_stay = pd.to_datetime(hotel_booking_data_confirmed['reservation_status_date']) - hotel_booking_data_confirmed['arrival_date']\n",
    "sns.distplot(total_days_of_stay.dt.days)\n",
    "plt.show()"
   ]
  },
  {
   "cell_type": "markdown",
   "metadata": {},
   "source": [
    "**Negative days of stay observed, which seems absurd. There seem to be an error either in reservation_status_date column. or arrival_date column**"
   ]
  },
  {
   "cell_type": "code",
   "execution_count": null,
   "metadata": {},
   "outputs": [],
   "source": [
    "# Another way to analyse the stay duration is by visualising the stays_in_nights column across both the hotels\n",
    "hotel_booking_data['total_night_stays'] = hotel_booking_data['stays_in_week_nights'] + hotel_booking_data['stays_in_weekend_nights']\n",
    "hotel_resort_data['total_night_stays'] = hotel_resort_data['stays_in_week_nights'] + hotel_resort_data['stays_in_weekend_nights']\n",
    "hotel_city_data['total_night_stays'] = hotel_city_data['stays_in_week_nights'] + hotel_city_data['stays_in_weekend_nights']\n",
    "\n",
    "fig, ax = plt.subplots(1, 2, figsize = (12, 5))\n",
    "# Distribution of total night stays across Resort Hotel\n",
    "sns.distplot(hotel_resort_data['total_night_stays'], ax = ax[0])\n",
    "ax[0].set_xlabel('Total Night Stays')\n",
    "ax[0].set_title('Total Night Stays in Resort Hotel', fontdict={'fontsize' : 20})\n",
    "\n",
    "# Distribution of total night stays across City Hotel\n",
    "sns.distplot(hotel_city_data['total_night_stays'], ax = ax[1])\n",
    "ax[1].set_xlabel('Total Night Stays')\n",
    "ax[1].set_title('Total Night Stays in City Hotel', fontdict={'fontsize' : 20})\n",
    "\n",
    "fig.show()"
   ]
  },
  {
   "cell_type": "markdown",
   "metadata": {},
   "source": [
    "**Skewed Distribution can be observed for total night stays for both the hotels.**"
   ]
  },
  {
   "cell_type": "code",
   "execution_count": null,
   "metadata": {},
   "outputs": [],
   "source": [
    "# Next, I visualise the lead time for every month, since, from earlier observations that number of bookings increase during the summer months a similar pattern should be observed here as well.\n",
    "labels = ['January', 'February', 'March', 'April', 'May', 'June', 'July', 'August', 'September', 'October', 'November', 'December']\n",
    "ticks = np.arange(1,12)\n",
    "plt.figure(figsize=(12,4))\n",
    "sns.lineplot(data=hotel_booking_data, x='arrival_date_month_number', y='lead_time', hue='hotel')\n",
    "plt.xticks(ticks=ticks, labels=labels)\n",
    "plt.title(\"Lead Time Across Months\", fontdict={'fontsize' : 20})\n",
    "plt.show()"
   ]
  },
  {
   "cell_type": "markdown",
   "metadata": {},
   "source": [
    "**Lead time is high for the months of March to September, then a dip is observed for both the hotels.**"
   ]
  },
  {
   "cell_type": "code",
   "execution_count": null,
   "metadata": {},
   "outputs": [],
   "source": [
    "# adr_pp has inf values hence, drop the column\n",
    "hotel_booking_data.drop('adr_pp', axis=1, inplace=True)"
   ]
  },
  {
   "cell_type": "code",
   "execution_count": null,
   "metadata": {},
   "outputs": [],
   "source": [
    "# Plot the correlation heatmap\n",
    "corr_matrix = hotel_booking_data.corr()\n",
    "plt.figure(figsize=(20,10))\n",
    "sns.heatmap(corr_matrix, annot=True, linecolor='black', )\n",
    "plt.title(\"Pearson Correlation Matrix\", fontdict={'fontsize':20})\n",
    "plt.show()"
   ]
  },
  {
   "cell_type": "markdown",
   "metadata": {},
   "source": [
    "# Model for predicting chances of booking getting cancelled"
   ]
  },
  {
   "cell_type": "markdown",
   "metadata": {},
   "source": [
    "## Data Preprocessing, Feature Engineering and Feature Selection"
   ]
  },
  {
   "cell_type": "code",
   "execution_count": null,
   "metadata": {},
   "outputs": [],
   "source": [
    "hotel_booking_data.head()"
   ]
  },
  {
   "cell_type": "code",
   "execution_count": null,
   "metadata": {},
   "outputs": [],
   "source": [
    "# Enode the hotel column\n",
    "\n",
    "'''\n",
    "Resort Hotel --> 0\n",
    "City Hotel --> 1\n",
    "'''\n",
    "map_hotel = {'Resort Hotel' : 0, 'City Hotel' : 1}\n",
    "hotel_booking_data['hotel'] = hotel_booking_data['hotel'].map(map_hotel)"
   ]
  },
  {
   "cell_type": "code",
   "execution_count": null,
   "metadata": {},
   "outputs": [],
   "source": [
    "# Drop the arrival_date_month because we have already encoded the same as arrival_date_month_number\n",
    "hotel_booking_data.drop('arrival_date_month', axis=1, inplace=True)"
   ]
  },
  {
   "cell_type": "code",
   "execution_count": null,
   "metadata": {},
   "outputs": [],
   "source": [
    "# convert the reservation_status_date into a float variable\n",
    "def cnvt_date_to_num(x):\n",
    "  return float(x.day*(10**6) + x.month*(10**4) + x.year)\n",
    "\n",
    "# Apply the above function to both reservation_status_date and arrival_date\n",
    "hotel_booking_data['reservation_status_date'] = pd.to_datetime(hotel_booking_data['reservation_status_date']).apply(lambda x : cnvt_date_to_num(x))\n",
    "hotel_booking_data['arrival_date'] = hotel_booking_data['arrival_date'].apply(lambda x : cnvt_date_to_num(x))"
   ]
  },
  {
   "cell_type": "code",
   "execution_count": null,
   "metadata": {},
   "outputs": [],
   "source": [
    "# Extract all the object type columns\n",
    "object_columns = [cols for cols in hotel_booking_data.select_dtypes('object').columns]\n",
    "\n",
    "# Check for columns with high cardinality\n",
    "def check_high_cardnial_columns(data, columns, threshold = 20):\n",
    "\n",
    "  high_cardinal_columns = [] # List for storing the columns for high cardinality\n",
    "\n",
    "  # iterate over each object columns and check for cardinality\n",
    "  for column in columns:\n",
    "    cardinality = data[column].value_counts().shape[0]\n",
    "\n",
    "    # Check if the cardinality is above the threshold\n",
    "    if cardinality > threshold:\n",
    "      high_cardinal_columns.append(column)\n",
    "\n",
    "  return high_cardinal_columns\n",
    "\n",
    "# Call the above function\n",
    "high_cardinal_columns = check_high_cardnial_columns(hotel_booking_data, object_columns)"
   ]
  },
  {
   "cell_type": "code",
   "execution_count": null,
   "metadata": {},
   "outputs": [],
   "source": [
    "high_cardinal_columns"
   ]
  },
  {
   "cell_type": "markdown",
   "metadata": {},
   "source": [
    "**country, agent and company columns are high cardinal columns, hence these will be ordinally encoded**"
   ]
  },
  {
   "cell_type": "code",
   "execution_count": null,
   "metadata": {},
   "outputs": [],
   "source": [
    "# Encode the high cardinal column\n",
    "for cols in high_cardinal_columns:\n",
    "  # Creating a LabelEncoder object\n",
    "  le = LabelEncoder()\n",
    "  hotel_booking_data[cols] = hotel_booking_data[cols].astype('str')\n",
    "  hotel_booking_data[cols] = le.fit_transform(hotel_booking_data[cols])"
   ]
  },
  {
   "cell_type": "code",
   "execution_count": null,
   "metadata": {},
   "outputs": [],
   "source": [
    "# Remove the high cardinal columns from the object columns list\n",
    "for cols in high_cardinal_columns:\n",
    "  object_columns.remove(cols)"
   ]
  },
  {
   "cell_type": "code",
   "execution_count": null,
   "metadata": {},
   "outputs": [],
   "source": [
    "# Create dummies for the rest of the object columns\n",
    "final_data = pd.get_dummies(hotel_booking_data, drop_first=True)"
   ]
  },
  {
   "cell_type": "code",
   "execution_count": null,
   "metadata": {},
   "outputs": [],
   "source": [
    "# Divide the data into features and target and then scale the features\n",
    "X = final_data.drop('is_canceled', axis=1)\n",
    "y = final_data['is_canceled']\n",
    "\n",
    "# Scale the features\n",
    "for col in X.columns:\n",
    "  mms = MinMaxScaler()\n",
    "  X[col] = mms.fit_transform(X[col].values.reshape(-1,1))"
   ]
  },
  {
   "cell_type": "code",
   "execution_count": null,
   "metadata": {},
   "outputs": [],
   "source": [
    "# Performing Feature Selection using RandomForest and Recursive Feature Elimination\n",
    "rf = RandomForestClassifier()\n",
    "feature_selector = RFE(rf, 30, verbose=3)\n",
    "feature_selector.fit(X, y)"
   ]
  },
  {
   "cell_type": "code",
   "execution_count": null,
   "metadata": {},
   "outputs": [],
   "source": [
    "feature_selector.support_"
   ]
  },
  {
   "cell_type": "code",
   "execution_count": null,
   "metadata": {},
   "outputs": [],
   "source": [
    "# Select the important features\n",
    "important_features = X.columns[feature_selector.support_]\n",
    "important_features"
   ]
  },
  {
   "cell_type": "code",
   "execution_count": null,
   "metadata": {},
   "outputs": [],
   "source": [
    "# Extract the data only with the important features\n",
    "X_imp = X[important_features]"
   ]
  },
  {
   "cell_type": "code",
   "execution_count": null,
   "metadata": {},
   "outputs": [],
   "source": [
    "# Build Default Models\n",
    "def build_models(X, y):\n",
    "\n",
    "  print(\"########################################### FUNCTION BEGINS #####################################################################\")\n",
    "\n",
    "  # Store all the classifiers to built\n",
    "  models = {'Logistic Regression' : LogisticRegression(),\n",
    "            'KNN' :KNeighborsClassifier(),\n",
    "            'Decision Tree' : DecisionTreeClassifier(),\n",
    "            'SVM' : SVC(),\n",
    "            'Random Forest' : RandomForestClassifier(),\n",
    "            'Extra Trees' : ExtraTreesClassifier(),\n",
    "            'AdaBoost' : AdaBoostClassifier(),\n",
    "            'XGB' : XGBClassifier(),\n",
    "            'LGBM' : LGBMClassifier()\n",
    "            }\n",
    "\n",
    "  # Store the trained models in a dictionary\n",
    "  trained_models = {}\n",
    "\n",
    "  # Note the start time\n",
    "  function_start = datetime.datetime.now()\n",
    "  print(\"Model Building begins at {}\".format(function_start))\n",
    "\n",
    "  start_time = time.time()\n",
    "  # Iterate over models and model object\n",
    "  for model, model_obj in models.items():\n",
    "\n",
    "    # Note the starting time of the model\n",
    "    model_start = time.time()\n",
    "    print(\"{} Model begins\".format(model))\n",
    "\n",
    "    # Fit the model using cross_val_score\n",
    "    cv_mean = np.mean(cross_val_score(model_obj, X, y, scoring='accuracy', cv=3, n_jobs=-1))\n",
    "\n",
    "    # Store the cv score\n",
    "    trained_models[model] = cv_mean\n",
    "    \n",
    "    # Note the end time and print the total time taken for the model to build\n",
    "    model_end = time.time()\n",
    "    print(\"{} Model built\".format(model))\n",
    "    print(\"Total time taken for {} model to build: {:.3f} seconds\".format(model, model_end-model_start))\n",
    "  \n",
    "  results = pd.DataFrame(trained_models, index = ['Mean CV Accuracy']).T\n",
    "  print(\"########################################### FUNCTION ENDS #####################################################################\")\n",
    "  print()\n",
    "  end_time = time.time()\n",
    "  print(\"Total time taken to build models: {:.3f} seconds\".format(end_time-start_time))\n",
    "\n",
    "  return results"
   ]
  },
  {
   "cell_type": "code",
   "execution_count": null,
   "metadata": {},
   "outputs": [],
   "source": [
    "results = build_models(X_imp, y)"
   ]
  },
  {
   "cell_type": "code",
   "execution_count": null,
   "metadata": {},
   "outputs": [],
   "source": [
    "# Sort the results based on the accuracy\n",
    "results_sorted = results.sort_values('Mean CV Accuracy', ascending=False)\n",
    "results_sorted"
   ]
  },
  {
   "cell_type": "markdown",
   "metadata": {},
   "source": [
    "**Cross Validation Accuracy Score of 1.0 is achieved for most of the models. Below is the Root Cause Analysis for the same.**"
   ]
  },
  {
   "cell_type": "code",
   "execution_count": null,
   "metadata": {},
   "outputs": [],
   "source": [
    "# Train an ensemble model and visualise the feature importance of each feature\n",
    "X_train, X_test, y_train, y_test = train_test_split(X_imp, y, test_size=0.2, random_state=42)\n",
    "\n",
    "# Random Forest Model\n",
    "rf_clf = RandomForestClassifier()\n",
    "rf_clf.fit(X_train, y_train)\n",
    "\n",
    "# Compute the accuracy on the test set\n",
    "test_acc_score = rf_clf.score(X_test, y_test)\n",
    "print(\"Accuracy of Random Forest Classifier Model on the test set is {}%\".format(test_acc_score*100))"
   ]
  },
  {
   "cell_type": "code",
   "execution_count": null,
   "metadata": {},
   "outputs": [],
   "source": [
    "# Feature Importances\n",
    "feature_importance = rf_clf.feature_importances_\n",
    "features = X_imp.columns\n",
    "# Create a dictionary of features and the feature importances\n",
    "feature_importance_dict = {features[i] : feature_importance[i] for i in range(len(feature_importance))}\n",
    "feature_importance_df = pd.DataFrame(feature_importance_dict, index=['Feature Importance']).T.reset_index().rename(columns = {'index' : 'Features'})\n",
    "feature_importance_df = feature_importance_df.sort_values('Feature Importance', ascending=False)\n",
    "\n",
    "# Plot the feature importances\n",
    "plt.figure(figsize=(8,8))\n",
    "sns.barplot(x='Feature Importance', y='Features', data=feature_importance_df)\n",
    "plt.title(\"Feature Importance\", fontdict={'fontsize' : 20})\n",
    "plt.show()"
   ]
  },
  {
   "cell_type": "markdown",
   "metadata": {},
   "source": [
    "**From the above plot it is clear that the feature \"reservation_status_Check_Out\" has the most importance.**"
   ]
  },
  {
   "cell_type": "code",
   "execution_count": null,
   "metadata": {},
   "outputs": [],
   "source": [
    "hotel_booking_data['reservation_status'].value_counts()"
   ]
  },
  {
   "cell_type": "markdown",
   "metadata": {},
   "source": [
    "**Clearly, the reservation_status column has 3 categories which tell whether a person has canceled the booking or not(which is our target). Let's build the model without this feature to check the performance of the model.**"
   ]
  },
  {
   "cell_type": "code",
   "execution_count": null,
   "metadata": {},
   "outputs": [],
   "source": [
    "# Drop the reservation_status_Check_Out column\n",
    "X_imp_2 = X_imp.drop(\"reservation_status_Check-Out\", axis=1)"
   ]
  },
  {
   "cell_type": "code",
   "execution_count": null,
   "metadata": {},
   "outputs": [],
   "source": [
    "# Build models again\n",
    "results_2 = build_models(X_imp_2, y)"
   ]
  },
  {
   "cell_type": "code",
   "execution_count": null,
   "metadata": {},
   "outputs": [],
   "source": [
    "# Sort the results in descending order\n",
    "results_2_sorted = results_2.sort_values('Mean CV Accuracy', ascending=False)\n",
    "results_2_sorted"
   ]
  },
  {
   "cell_type": "markdown",
   "metadata": {},
   "source": [
    "**Cross Validation Accuracy Score of 0.73 or 73% is observed.**\n",
    "\n",
    "\n",
    "*   Light GBM is the Champion Model\n",
    "*   AdaBoost is the Runner Up\n",
    "\n"
   ]
  },
  {
   "cell_type": "markdown",
   "metadata": {},
   "source": [
    "**Improving the performance of the champion model model using hyperparameter tuning.**"
   ]
  },
  {
   "cell_type": "code",
   "execution_count": null,
   "metadata": {},
   "outputs": [],
   "source": [
    "# Split the data into train and test split\n",
    "X_train_2, X_test_2, y_train_2, y_test_2 = train_test_split(X_imp_2, y, test_size=0.2, random_state=42)"
   ]
  },
  {
   "cell_type": "code",
   "execution_count": null,
   "metadata": {},
   "outputs": [],
   "source": [
    "# 1. Light GBM\n",
    "\n",
    "lgbm_clf = LGBMClassifier() # Default Model\n",
    "\n",
    "# Set up hyperparameters\n",
    "num_leaves = [31, 51, 71, 91, 111, 200, 500]\n",
    "max_depth = [-1, 50, 100, 150, 200, 300, 500]\n",
    "learning_rate = [0.01, 0.05, 0.1, 0.5]\n",
    "reg_alpha = [0.0, 0.25, 0.5, 0.75, 1.0]\n",
    "reg_lambda = [0.0, 0.5, 1.0]\n",
    "\n",
    "lgbm_params = {\"num_leaves\" : num_leaves,\n",
    "               \"max_depth\" : max_depth,\n",
    "               \"learning_rate\" : learning_rate,\n",
    "               \"reg_alpha\" : reg_alpha,\n",
    "               \"reg_lambda\" : reg_lambda\n",
    "               }\n",
    "\n",
    "# Using RandomizedSearchCV for hyperparameter tuning\n",
    "rscv_lgbm = RandomizedSearchCV(lgbm_clf, lgbm_params, n_iter=10, scoring='accuracy', n_jobs=-1, cv=3, random_state=12, verbose=4)\n",
    "rscv_lgbm.fit(X_train_2, y_train_2)"
   ]
  },
  {
   "cell_type": "code",
   "execution_count": null,
   "metadata": {},
   "outputs": [],
   "source": [
    "# Print the mean cv scores calculated\n",
    "mean_cv_0 = np.mean(rscv_lgbm.cv_results_[\"split0_test_score\"])\n",
    "mean_cv_1 = np.mean(rscv_lgbm.cv_results_[\"split1_test_score\"])\n",
    "mean_cv_2 = np.mean(rscv_lgbm.cv_results_[\"split2_test_score\"])\n",
    "\n",
    "print(\"Cross Validation Accuracy Scores for Tuned Light GBM Classifer are:\")\n",
    "for i in range(3):\n",
    "  print(\"Split {} Score: \".format(i+1), np.round(100*np.mean(rscv_lgbm.cv_results_[\"split{}_test_score\".format(i)]),2), '%')"
   ]
  },
  {
   "cell_type": "markdown",
   "metadata": {},
   "source": [
    "**After hyperparameter tuning, it can be observed that the Cross Validation Score increases Significantly.**"
   ]
  },
  {
   "cell_type": "code",
   "execution_count": null,
   "metadata": {},
   "outputs": [],
   "source": [
    "# Test the model on the test set\n",
    "test_acc_score_2 = rscv_lgbm.score(X_test_2, y_test_2)\n",
    "print(\"Accuracy of Light Gradient Bossting Model (Tuned) on the test set is {:.2f}%\".format(test_acc_score_2*100))"
   ]
  },
  {
   "cell_type": "code",
   "execution_count": null,
   "metadata": {},
   "outputs": [],
   "source": [
    "# Store the probabilities as well\n",
    "prediction_prob = rscv_lgbm.predict_proba(X_test_2)"
   ]
  },
  {
   "cell_type": "code",
   "execution_count": null,
   "metadata": {},
   "outputs": [],
   "source": [
    "# Extract the best estimator and train it on the entire dataset and then dump the model in a pickle file\n",
    "lgbm_clf_best = rscv_lgbm.best_estimator_\n",
    "\n",
    "# fit the model\n",
    "lgbm_clf_best.fit(X_imp_2, y)"
   ]
  },
  {
   "cell_type": "code",
   "execution_count": null,
   "metadata": {},
   "outputs": [],
   "source": [
    "# Dump the model\n",
    "file_path = \"/content/LightGBM_Classifier.pkl\"\n",
    "pickle_out = open(file_path, \"wb\")\n",
    "pickle.dump(lgbm_clf_best, pickle_out)\n",
    "pickle_out.close()"
   ]
  }
 ],
 "metadata": {
  "kernelspec": {
   "display_name": "Python 3 (ipykernel)",
   "language": "python",
   "name": "python3"
  },
  "language_info": {
   "codemirror_mode": {
    "name": "ipython",
    "version": 3
   },
   "file_extension": ".py",
   "mimetype": "text/x-python",
   "name": "python",
   "nbconvert_exporter": "python",
   "pygments_lexer": "ipython3",
   "version": "3.11.1"
  }
 },
 "nbformat": 4,
 "nbformat_minor": 4
}
